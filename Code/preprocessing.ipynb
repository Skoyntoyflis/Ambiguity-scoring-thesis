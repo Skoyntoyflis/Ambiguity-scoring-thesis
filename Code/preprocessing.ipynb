{
 "cells": [
  {
   "cell_type": "markdown",
   "metadata": {},
   "source": [
    "### Preprocessing for Emtree\n"
   ]
  },
  {
   "cell_type": "code",
   "execution_count": 35,
   "metadata": {},
   "outputs": [],
   "source": [
    "# Imports\n",
    "import pandas as pd\n",
    "import numpy as np\n"
   ]
  },
  {
   "cell_type": "code",
   "execution_count": 36,
   "metadata": {},
   "outputs": [],
   "source": [
    "# %pip install pandas"
   ]
  },
  {
   "cell_type": "code",
   "execution_count": 37,
   "metadata": {},
   "outputs": [],
   "source": [
    "df_emtree = pd.read_csv(\"/home/dpapadopoulos/dsls-papadopoulos-ambiguity-scoring-thesis/Data/Emtree_RMC.csv\")"
   ]
  },
  {
   "cell_type": "code",
   "execution_count": 38,
   "metadata": {},
   "outputs": [],
   "source": [
    "#Create lists for supers and labels for each concept\n",
    "temp_df1 = df_emtree.groupby('concept')['superLabel'].apply(lambda x: list(x.unique())).reset_index().rename(columns={'superLabel': 'superLabel_list'})\n",
    "temp_df2 = df_emtree.groupby('concept')['super'].apply(lambda x: list(x.unique())).reset_index().rename(columns={'super': 'super_list'})\n",
    "temp_df3 = df_emtree.groupby('concept')['label'].apply(lambda x: list(x.unique())).reset_index().rename(columns={'label': 'label_list'})\n",
    "df_emtree_proc = pd.merge(df_emtree, temp_df1, on='concept', how='left')\n",
    "df_emtree_proc = pd.merge(df_emtree_proc, temp_df2, on='concept', how='left')\n",
    "df_emtree_proc = pd.merge(df_emtree_proc, temp_df3, on='concept', how='left')"
   ]
  },
  {
   "cell_type": "code",
   "execution_count": 39,
   "metadata": {},
   "outputs": [],
   "source": [
    "#For concepts having both ambiguous and unambiguous labels we keep only the rows of ambiguous\n",
    "#Find concepts that have both True and False values in ' ambiguous'. Similarly for only True or False\n",
    "ambiguous_concepts = df_emtree_proc.groupby('concept')['ambiguous'].apply(lambda x: set(x) == {True, False})\n",
    "ambiguous_concepts = ambiguous_concepts[ambiguous_concepts].index.tolist()\n",
    "\n",
    "\n",
    "#Create word cound collumn \n",
    "df_emtree_proc['word_count'] = df_emtree_proc['label'].apply(lambda x: len(str(x).split()))\n",
    "\n",
    "#Define and remove outliers\n",
    "\n",
    "# Define upper bound\n",
    "upper_bound = df_emtree_proc['word_count'].quantile(0.99)\n",
    "# upper_bound = 16\n",
    "\n",
    "# Identify outliers\n",
    "outliers = df_emtree_proc[df_emtree_proc['word_count'] > upper_bound]\n",
    "# print(\"Number of outliers:\", len(outliers))\n",
    "\n",
    "# Count the number of outliers that are ambiguous\n",
    "ambiguous_outliers = outliers[outliers['ambiguous'] == True]\n",
    "# print(\"Number of ambiguous outliers:\", len(ambiguous_outliers))\n",
    "\n",
    "# Filter the DataFrame\n",
    "df_emtree_proc = df_emtree_proc[df_emtree_proc['word_count'] <= upper_bound]\n"
   ]
  },
  {
   "cell_type": "code",
   "execution_count": 40,
   "metadata": {},
   "outputs": [],
   "source": [
    "# ***For concepts having both ambiguous and unambiguous labels we keep only the rows of ambiguous as the data is skewed.***\n",
    "temp_df = df_emtree_proc[(df_emtree_proc['concept'].isin(ambiguous_concepts)) & (df_emtree_proc['ambiguous'] == False)]\n",
    "\n",
    "# Remove these rows from df_emtree_proc\n",
    "df_emtree_proc = df_emtree_proc.drop(temp_df.index)\n",
    "\n",
    "# %%\n",
    "#Keep only one label for each concept. For now this is the first one but later maybe the preferred label in the taxonomy\n",
    "df_emtree_proc = df_emtree_proc.sort_values('concept')\n",
    "df_emtree_proc = df_emtree_proc.drop_duplicates(subset='concept', keep='first').drop(['super','superLabel'],axis=1)\n",
    "\n",
    "# %% [markdown]\n",
    "# ***For ambiguous concepts we remove the qualifier - the explanation inside the parenthesis - and keep it in a seperate collumn***\n",
    "\n",
    "# %%\n",
    "#Remove qualifier and put it in new column for ambiguous terms\n",
    "# Create a mask for rows where 'ambiguous' is True\n",
    "mask = df_emtree_proc['ambiguous'] == True\n",
    "\n",
    "# Extract the qualifier and put it in a new column for these rows\n",
    "df_emtree_proc.loc[mask, 'qualifier'] = df_emtree_proc.loc[mask, 'label'].str.extract(r'\\((.*?)\\)', expand=False)\n",
    "\n",
    "# Remove the qualifier from the 'label' column for these rows\n",
    "df_emtree_proc.loc[mask, 'label'] = df_emtree_proc.loc[mask, 'label'].str.replace(r'\\s*\\(.*?\\)\\s*', '', regex=True)"
   ]
  },
  {
   "cell_type": "code",
   "execution_count": 41,
   "metadata": {},
   "outputs": [],
   "source": [
    "# reorder columnns\n",
    "df_emtree_proc = df_emtree_proc[['concept', 'label', 'ambiguous','qualifier','label_list','distance','super_list','superLabel_list','word_count']]"
   ]
  },
  {
   "cell_type": "markdown",
   "metadata": {},
   "source": [
    "### Save dataframe"
   ]
  },
  {
   "cell_type": "code",
   "execution_count": 42,
   "metadata": {},
   "outputs": [],
   "source": [
    "#Save dataframe to csv for pipeline\n",
    "# df_emtree_proc.to_csv(\"/Users/papadopoulosd/Documents/Ambiguity_scoring_project/Emtree_RMC_processed.csv\",header=True)"
   ]
  },
  {
   "cell_type": "markdown",
   "metadata": {},
   "source": [
    "## For Omniscience"
   ]
  },
  {
   "cell_type": "markdown",
   "metadata": {},
   "source": [
    "### Data Loading"
   ]
  },
  {
   "cell_type": "code",
   "execution_count": 43,
   "metadata": {},
   "outputs": [],
   "source": [
    "df_omni = pd.read_csv(\"/home/dpapadopoulos/dsls-papadopoulos-ambiguity-scoring-thesis/Data/OmniScience.csv\")"
   ]
  },
  {
   "cell_type": "code",
   "execution_count": 44,
   "metadata": {},
   "outputs": [
    {
     "name": "stdout",
     "output_type": "stream",
     "text": [
      "Number of outliers: 620\n",
      "Number of ambiguous outliers: 16\n",
      "Number of records after removing outliers: 97677\n"
     ]
    }
   ],
   "source": [
    "#Create lists for supers and labels for each concept\n",
    "temp_df1 = df_omni.groupby('concept')['superLabel'].apply(lambda x: list(x.unique())).reset_index().rename(columns={'superLabel': 'superLabel_list'})\n",
    "temp_df2 = df_omni.groupby('concept')['super'].apply(lambda x: list(x.unique())).reset_index().rename(columns={'super': 'super_list'})\n",
    "temp_df3 = df_omni.groupby('concept')['label'].apply(lambda x: list(x.unique())).reset_index().rename(columns={'label': 'label_list'})\n",
    "df_omni_proc = pd.merge(df_omni, temp_df1, on='concept', how='left')\n",
    "df_omni_proc = pd.merge(df_omni_proc, temp_df2, on='concept', how='left')\n",
    "df_omni_proc = pd.merge(df_omni_proc, temp_df3, on='concept', how='left')\n",
    "\n",
    "df_omni_proc['word_count'] = df_omni_proc['label'].apply(lambda x: len(str(x).split()))\n",
    "#Define and remove outliers\n",
    "\n",
    "# Define upper bound\n",
    "upper_bound = df_omni_proc['word_count'].quantile(0.99)\n",
    "# upper_bound = 16\n",
    "\n",
    "# Identify outliers\n",
    "outliers = df_omni_proc[df_omni_proc['word_count'] > upper_bound]\n",
    "print(\"Number of outliers:\", len(outliers))\n",
    "\n",
    "# Count the number of outliers that are ambiguous\n",
    "ambiguous_outliers = outliers[outliers['ambiguous'] == True]\n",
    "print(\"Number of ambiguous outliers:\", len(ambiguous_outliers))\n",
    "\n",
    "# Filter the DataFrame\n",
    "df_omni_proc = df_omni_proc[df_omni_proc['word_count'] <= upper_bound]\n",
    "\n",
    "print(\"Number of records after removing outliers:\", len(df_omni_proc))\n"
   ]
  },
  {
   "cell_type": "markdown",
   "metadata": {},
   "source": [
    "***For ambiguous concepts we remove the qualifier - the explanation inside the parenthesis - and keep it in a seperate collumn***"
   ]
  },
  {
   "cell_type": "code",
   "execution_count": 45,
   "metadata": {},
   "outputs": [],
   "source": [
    "#Remove qualifier and put it in new column for ambiguous terms\n",
    "# Create a mask for rows where 'ambiguous' is True\n",
    "mask = df_omni_proc['ambiguous'] == True\n",
    "\n",
    "# Extract the qualifier and put it in a new column for these rows\n",
    "df_omni_proc.loc[mask, 'qualifier'] = df_omni_proc.loc[mask, 'label'].str.extract(r'\\((.*?)\\)', expand=False)\n",
    "\n",
    "# Remove the qualifier from the 'label' column for these rows\n",
    "df_omni_proc.loc[mask, 'label'] = df_omni_proc.loc[mask, 'label'].str.replace(r'\\s*\\(.*?\\)\\s*', '', regex=True)\n"
   ]
  },
  {
   "cell_type": "code",
   "execution_count": 46,
   "metadata": {},
   "outputs": [],
   "source": [
    "#For omniscience we have to check whether a concept occurs multiple times without the qualifier.\n",
    "# Filter the DataFrame for rows where 'ambiguous' is True\n",
    "ambiguous_df = df_omni_proc[df_omni_proc['ambiguous'] == True]\n",
    "\n",
    "# Group by 'concept' and 'label', count the size of each group, and filter for counts greater than 1\n",
    "ambiguous_duplicates = ambiguous_df.groupby(['concept', 'label']).size().reset_index(name='count')\n",
    "ambiguous_duplicates = ambiguous_duplicates[ambiguous_duplicates['count'] > 1]\n"
   ]
  },
  {
   "cell_type": "code",
   "execution_count": 47,
   "metadata": {},
   "outputs": [],
   "source": [
    "\n",
    "# Get the unique 'concept'-'label' pairs in the ambiguous DataFrame\n",
    "ambiguous_pairs = set(zip(ambiguous_df['concept'], ambiguous_df['label']))\n",
    "\n",
    "# Get the unique 'concept'-'label' pairs in the whole DataFrame\n",
    "all_pairs = set(zip(df_omni_proc['concept'], df_omni_proc['label']))\n",
    "\n",
    "# Find the 'concept'-'label' pairs that are in the ambiguous DataFrame but also appear under a different concept in the whole DataFrame\n",
    "ambiguous_duplicates = [(concept, label) for concept, label in ambiguous_pairs if any((c, label) in all_pairs for c in df_omni_proc['concept'].unique() if c != concept)]\n",
    "\n",
    "# Create a new column in the original DataFrame to indicate whether each row is a duplicate\n",
    "df_omni_proc['duplicate'] = df_omni_proc.apply(lambda row: (row['concept'], row['label']) in ambiguous_duplicates, axis=1)\n"
   ]
  },
  {
   "cell_type": "code",
   "execution_count": 48,
   "metadata": {},
   "outputs": [
    {
     "name": "stdout",
     "output_type": "stream",
     "text": [
      "The number of unique concepts that are both ambiguous and duplicate is: 645\n"
     ]
    }
   ],
   "source": [
    "# Filter the DataFrame for rows where both 'ambiguous' and 'duplicate' are True\n",
    "ambiguous_and_duplicate_df = df_omni_proc[(df_omni_proc['ambiguous'] == True) & (df_omni_proc['duplicate'] == True)]\n",
    "\n",
    "# Get the number of unique concepts in the filtered DataFrame\n",
    "unique_concepts_count = ambiguous_and_duplicate_df['concept'].nunique()\n",
    "\n",
    "# Print the number of unique concepts\n",
    "print(f\"The number of unique concepts that are both ambiguous and duplicate is: {unique_concepts_count}\")"
   ]
  },
  {
   "cell_type": "code",
   "execution_count": 49,
   "metadata": {},
   "outputs": [],
   "source": [
    "#Change ambiguous to False for those that don't appear under different concept\n",
    "# Get the list of unique concepts that are both ambiguous and duplicate\n",
    "ambiguous_and_duplicate_concepts = ambiguous_and_duplicate_df['concept'].unique()\n",
    "\n",
    "# Change 'ambiguous' to False for concepts that are not in the list\n",
    "df_omni_proc.loc[~df_omni_proc['concept'].isin(ambiguous_and_duplicate_concepts), 'ambiguous'] = False\n",
    "\n"
   ]
  },
  {
   "cell_type": "code",
   "execution_count": 50,
   "metadata": {},
   "outputs": [],
   "source": [
    "#For concepts having both ambiguous and unambiguous labels we keep only the rows of ambiguous as the data is skewed.\n",
    "temp_df = df_omni_proc[(df_omni_proc['concept'].isin(ambiguous_concepts)) & (df_omni_proc['ambiguous'] == False)]\n",
    "\n",
    "# Remove these rows from df_emtree\n",
    "df_omni_proc = df_omni_proc.drop(temp_df.index)"
   ]
  },
  {
   "cell_type": "code",
   "execution_count": 51,
   "metadata": {},
   "outputs": [],
   "source": [
    "#Keep only one label for each concept. For now this is the first one but later maybe the preferred label in the taxonomy\n",
    "df_omni_proc = df_omni_proc.sort_values('concept')\n",
    "df_omni_proc = df_omni_proc.drop_duplicates(subset='concept', keep='first').drop(['super','superLabel'],axis=1)"
   ]
  },
  {
   "cell_type": "code",
   "execution_count": 52,
   "metadata": {},
   "outputs": [],
   "source": [
    "# reorder columnns\n",
    "df_omni_proc = df_omni_proc[['concept', 'label', 'ambiguous','qualifier','label_list','distance','super_list','superLabel_list','word_count']]"
   ]
  },
  {
   "cell_type": "markdown",
   "metadata": {},
   "source": [
    "### Save dataframe"
   ]
  },
  {
   "cell_type": "code",
   "execution_count": 53,
   "metadata": {},
   "outputs": [],
   "source": [
    "#Save dataframe to csv for pipeline\n",
    "# df_omni_proc.to_csv(\"/Users/papadopoulosd/Documents/Ambiguity_scoring_project/Omniscience_processed.csv\",header=True)"
   ]
  }
 ],
 "metadata": {
  "kernelspec": {
   "display_name": "Python 3",
   "language": "python",
   "name": "python3"
  },
  "language_info": {
   "codemirror_mode": {
    "name": "ipython",
    "version": 3
   },
   "file_extension": ".py",
   "mimetype": "text/x-python",
   "name": "python",
   "nbconvert_exporter": "python",
   "pygments_lexer": "ipython3",
   "version": "3.9.7"
  }
 },
 "nbformat": 4,
 "nbformat_minor": 2
}
